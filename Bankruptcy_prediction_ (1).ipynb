{
  "nbformat": 4,
  "nbformat_minor": 0,
  "metadata": {
    "colab": {
      "name": "Bankruptcy prediction .ipynb",
      "provenance": [],
      "collapsed_sections": []
    },
    "kernelspec": {
      "display_name": "Python 3",
      "name": "python3"
    },
    "language_info": {
      "name": "python"
    }
  },
  "cells": [
    {
      "cell_type": "markdown",
      "metadata": {
        "id": "4y-nuBvbCDL2"
      },
      "source": [
        "## **Detecting whether or not a bank goes bankrupt  after 1 year**"
      ]
    },
    {
      "cell_type": "markdown",
      "metadata": {
        "id": "ibW-N5r4K9zm"
      },
      "source": [
        " **Importing necessary libraries**"
      ]
    },
    {
      "cell_type": "code",
      "metadata": {
        "id": "mKCMJCFeHAgN"
      },
      "source": [
        "import numpy as np\n",
        "import matplotlib.pyplot as plt\n",
        "import pandas as pd"
      ],
      "execution_count": 1,
      "outputs": []
    },
    {
      "cell_type": "markdown",
      "metadata": {
        "id": "aueIta2xLc6t"
      },
      "source": [
        " **Importing bankruptcy dataset**"
      ]
    },
    {
      "cell_type": "code",
      "metadata": {
        "id": "CCjS0d5CLmLV"
      },
      "source": [
        "from scipy.io import arff\n",
        "from io import BytesIO\n",
        "data = arff.loadarff('5year.arff')\n",
        "df = pd.DataFrame(data[0])\n",
        "X = df.iloc[:, :-1].values\n",
        "Y = df.iloc[:, -1].values\n",
        "y=[]\n",
        "for i in range(len(Y)):\n",
        "  if(Y[i]==b'0'):\n",
        "    y.append(0)\n",
        "  else:\n",
        "    y.append(1)"
      ],
      "execution_count": 2,
      "outputs": []
    },
    {
      "cell_type": "markdown",
      "metadata": {
        "id": "7XZHVedCNO_8"
      },
      "source": [
        " **Processing missing values**"
      ]
    },
    {
      "cell_type": "code",
      "metadata": {
        "id": "SzzPHOBENVbi"
      },
      "source": [
        "from sklearn.impute import SimpleImputer\n",
        "imputer = SimpleImputer(missing_values=np.nan, strategy='mean')\n",
        "imputer.fit(X)\n",
        "X = imputer.transform(X)"
      ],
      "execution_count": 3,
      "outputs": []
    },
    {
      "cell_type": "code",
      "source": [
        ""
      ],
      "metadata": {
        "id": "srBb2rUzjnrv"
      },
      "execution_count": 3,
      "outputs": []
    },
    {
      "cell_type": "markdown",
      "metadata": {
        "id": "0oaqEA6JPPdc"
      },
      "source": [
        "**Splitting dataset into training and test sets**"
      ]
    },
    {
      "cell_type": "code",
      "metadata": {
        "id": "MT9VDQHZPcXs"
      },
      "source": [
        "from sklearn.model_selection import train_test_split\n",
        "X_train, X_test, Y_train, Y_test = train_test_split(X, y, test_size = 0.25, random_state = 0)"
      ],
      "execution_count": 4,
      "outputs": []
    },
    {
      "cell_type": "markdown",
      "metadata": {
        "id": "OQQ9JPSgUc-N"
      },
      "source": [
        "# **Logistic regression**"
      ]
    },
    {
      "cell_type": "markdown",
      "metadata": {
        "id": "5Zxq5MwoQLu4"
      },
      "source": [
        "**Training the logistic regression model**\n"
      ]
    },
    {
      "cell_type": "code",
      "metadata": {
        "colab": {
          "base_uri": "https://localhost:8080/"
        },
        "id": "KTNTijXxQRIi",
        "outputId": "b0ec1cdf-586d-428e-a868-4d482e5cb747"
      },
      "source": [
        "from sklearn.linear_model import LogisticRegression\n",
        "classifier = LogisticRegression(random_state = 0)\n",
        "classifier.fit(X_train, Y_train)"
      ],
      "execution_count": 5,
      "outputs": [
        {
          "output_type": "stream",
          "name": "stderr",
          "text": [
            "/usr/local/lib/python3.7/dist-packages/sklearn/linear_model/_logistic.py:818: ConvergenceWarning: lbfgs failed to converge (status=1):\n",
            "STOP: TOTAL NO. of ITERATIONS REACHED LIMIT.\n",
            "\n",
            "Increase the number of iterations (max_iter) or scale the data as shown in:\n",
            "    https://scikit-learn.org/stable/modules/preprocessing.html\n",
            "Please also refer to the documentation for alternative solver options:\n",
            "    https://scikit-learn.org/stable/modules/linear_model.html#logistic-regression\n",
            "  extra_warning_msg=_LOGISTIC_SOLVER_CONVERGENCE_MSG,\n"
          ]
        },
        {
          "output_type": "execute_result",
          "data": {
            "text/plain": [
              "LogisticRegression(random_state=0)"
            ]
          },
          "metadata": {},
          "execution_count": 5
        }
      ]
    },
    {
      "cell_type": "markdown",
      "metadata": {
        "id": "R46Yo6XFUPKx"
      },
      "source": [
        "**Predicting the target labels of testset** "
      ]
    },
    {
      "cell_type": "code",
      "metadata": {
        "colab": {
          "base_uri": "https://localhost:8080/",
          "height": 401
        },
        "id": "WfiSx4YtQWSo",
        "outputId": "c6d591ec-c313-4a67-8892-f07709fb7ed6"
      },
      "source": [
        "from sklearn.metrics import confusion_matrix, accuracy_score, precision_score,recall_score, f1_score\n",
        "from sklearn.metrics import plot_confusion_matrix\n",
        "Y_pred = classifier.predict(X_test)\n",
        "cm = confusion_matrix(Y_test, Y_pred)\n",
        "plot_confusion_matrix(classifier, X_test, Y_test)  \n",
        "plt.show()\n",
        "print(\"accuracy = %f\" % accuracy_score(Y_test, Y_pred))\n",
        "print(\"precision = %f\" % precision_score(Y_test, Y_pred))\n",
        "print(\"recall score = %f\" % recall_score(Y_test, Y_pred))\n",
        "print(\"f1 score = %f\" % f1_score(Y_test, Y_pred))\n",
        "#https://vitalflux.com/accuracy-precision-recall-f1-score-python-example/"
      ],
      "execution_count": 6,
      "outputs": [
        {
          "output_type": "stream",
          "name": "stderr",
          "text": [
            "/usr/local/lib/python3.7/dist-packages/sklearn/utils/deprecation.py:87: FutureWarning: Function plot_confusion_matrix is deprecated; Function `plot_confusion_matrix` is deprecated in 1.0 and will be removed in 1.2. Use one of the class methods: ConfusionMatrixDisplay.from_predictions or ConfusionMatrixDisplay.from_estimator.\n",
            "  warnings.warn(msg, category=FutureWarning)\n"
          ]
        },
        {
          "output_type": "display_data",
          "data": {
            "image/png": "[encoded data removed]",
            "text/plain": [
              "<Figure size 432x288 with 2 Axes>"
            ]
          },
          "metadata": {
            "needs_background": "light"
          }
        },
        {
          "output_type": "stream",
          "name": "stdout",
          "text": [
            "accuracy = 0.935724\n",
            "precision = 0.333333\n",
            "recall score = 0.010638\n",
            "f1 score = 0.020619\n"
          ]
        }
      ]
    },
    {
      "cell_type": "markdown",
      "source": [
        "**Eliminating attributes based on correlation**\n"
      ],
      "metadata": {
        "id": "LazbnMXxwtdd"
      }
    },
    {
      "cell_type": "code",
      "source": [
        "print(len(X[0]))\n",
        "l=[]\n",
        "for i in range(0,len(X[0])):\n",
        "  xmat=X[:,i]\n",
        "  ymat=np.array(y)\n",
        "  r = np.corrcoef(xmat, ymat)\n",
        "  if(r[0,1]>0):\n",
        "    l.append(i)\n",
        "X=np.delete(X, l, axis=1)\n",
        "print(len(X[0]))"
      ],
      "metadata": {
        "colab": {
          "base_uri": "https://localhost:8080/"
        },
        "id": "h0agcUOIwrt_",
        "outputId": "f3ea26a0-1fe4-4688-f1a1-f6b3839ebede"
      },
      "execution_count": 7,
      "outputs": [
        {
          "output_type": "stream",
          "name": "stdout",
          "text": [
            "64\n",
            "42\n"
          ]
        }
      ]
    },
    {
      "cell_type": "markdown",
      "source": [
        "**Training the logistic regression model after reducing X**"
      ],
      "metadata": {
        "id": "_WE8aUinxag4"
      }
    },
    {
      "cell_type": "code",
      "source": [
        "from sklearn.linear_model import LogisticRegression\n",
        "classifier = LogisticRegression(random_state = 0)\n",
        "classifier.fit(X_train, Y_train)"
      ],
      "metadata": {
        "colab": {
          "base_uri": "https://localhost:8080/"
        },
        "id": "vJSnh0HDxP6K",
        "outputId": "92976d08-d73a-4537-9980-c525e2aa7798"
      },
      "execution_count": 8,
      "outputs": [
        {
          "output_type": "stream",
          "name": "stderr",
          "text": [
            "/usr/local/lib/python3.7/dist-packages/sklearn/linear_model/_logistic.py:818: ConvergenceWarning: lbfgs failed to converge (status=1):\n",
            "STOP: TOTAL NO. of ITERATIONS REACHED LIMIT.\n",
            "\n",
            "Increase the number of iterations (max_iter) or scale the data as shown in:\n",
            "    https://scikit-learn.org/stable/modules/preprocessing.html\n",
            "Please also refer to the documentation for alternative solver options:\n",
            "    https://scikit-learn.org/stable/modules/linear_model.html#logistic-regression\n",
            "  extra_warning_msg=_LOGISTIC_SOLVER_CONVERGENCE_MSG,\n"
          ]
        },
        {
          "output_type": "execute_result",
          "data": {
            "text/plain": [
              "LogisticRegression(random_state=0)"
            ]
          },
          "metadata": {},
          "execution_count": 8
        }
      ]
    },
    {
      "cell_type": "code",
      "source": [
        "from sklearn.metrics import confusion_matrix, accuracy_score, precision_score,recall_score, f1_score\n",
        "Y_pred = classifier.predict(X_test)\n",
        "cm = confusion_matrix(Y_test, Y_pred)\n",
        "plot_confusion_matrix(classifier, X_test, Y_test)  \n",
        "plt.show()\n",
        "print(\"accuracy = %f\" % accuracy_score(Y_test, Y_pred))\n",
        "print(\"precision = %f\" % precision_score(Y_test, Y_pred))\n",
        "print(\"recall score = %f\" % recall_score(Y_test, Y_pred))\n",
        "print(\"f1 score = %f\" % f1_score(Y_test, Y_pred))"
      ],
      "metadata": {
        "colab": {
          "base_uri": "https://localhost:8080/",
          "height": 401
        },
        "id": "ecWUufS1xSWA",
        "outputId": "e557d088-a6b0-4594-b890-d37ccfa7c80a"
      },
      "execution_count": 9,
      "outputs": [
        {
          "output_type": "stream",
          "name": "stderr",
          "text": [
            "/usr/local/lib/python3.7/dist-packages/sklearn/utils/deprecation.py:87: FutureWarning: Function plot_confusion_matrix is deprecated; Function `plot_confusion_matrix` is deprecated in 1.0 and will be removed in 1.2. Use one of the class methods: ConfusionMatrixDisplay.from_predictions or ConfusionMatrixDisplay.from_estimator.\n",
            "  warnings.warn(msg, category=FutureWarning)\n"
          ]
        },
        {
          "output_type": "display_data",
          "data": {
            "image/png": "[encoded data removed]",
            "text/plain": [
              "<Figure size 432x288 with 2 Axes>"
            ]
          },
          "metadata": {
            "needs_background": "light"
          }
        },
        {
          "output_type": "stream",
          "name": "stdout",
          "text": [
            "accuracy = 0.935724\n",
            "precision = 0.333333\n",
            "recall score = 0.010638\n",
            "f1 score = 0.020619\n"
          ]
        }
      ]
    },
    {
      "cell_type": "markdown",
      "metadata": {
        "id": "57tpWP5nV8fc"
      },
      "source": [
        "# **Feacture extraction**"
      ]
    },
    {
      "cell_type": "code",
      "metadata": {
        "id": "yI17_gs9WHCa",
        "colab": {
          "base_uri": "https://localhost:8080/"
        },
        "outputId": "adbdc17f-8a5d-4d05-d0b7-eae43d99465f"
      },
      "source": [
        "from sklearn.discriminant_analysis import LinearDiscriminantAnalysis as LDA\n",
        "lda = LDA(n_components = 1)\n",
        "print(len(X_train[0]))\n",
        "X_train = lda.fit_transform(X_train, Y_train)\n",
        "X_test = lda.transform(X_test)\n",
        "print(len(X_train[0]))"
      ],
      "execution_count": 10,
      "outputs": [
        {
          "output_type": "stream",
          "name": "stdout",
          "text": [
            "64\n",
            "1\n"
          ]
        }
      ]
    },
    {
      "cell_type": "markdown",
      "metadata": {
        "id": "ST20fYIxvCCr"
      },
      "source": [
        "**Training the logistic regression model after feature extraction**"
      ]
    },
    {
      "cell_type": "code",
      "metadata": {
        "colab": {
          "base_uri": "https://localhost:8080/"
        },
        "id": "gvqtoEa8vMV4",
        "outputId": "33bc9ece-de4b-4f1d-e9fc-c953cc8fc294"
      },
      "source": [
        "from sklearn.linear_model import LogisticRegression\n",
        "classifier = LogisticRegression(random_state = 0)\n",
        "classifier.fit(X_train, Y_train)"
      ],
      "execution_count": 11,
      "outputs": [
        {
          "output_type": "execute_result",
          "data": {
            "text/plain": [
              "LogisticRegression(random_state=0)"
            ]
          },
          "metadata": {},
          "execution_count": 11
        }
      ]
    },
    {
      "cell_type": "markdown",
      "metadata": {
        "id": "HQtfics2vToS"
      },
      "source": [
        "Predicting the target lables of testset"
      ]
    },
    {
      "cell_type": "code",
      "metadata": {
        "colab": {
          "base_uri": "https://localhost:8080/",
          "height": 401
        },
        "id": "AyPZJ24hvUcA",
        "outputId": "1fe967d5-0fa3-42bd-fc02-69b337c8e2f4"
      },
      "source": [
        "from sklearn.metrics import confusion_matrix, accuracy_score, precision_score,recall_score, f1_score\n",
        "Y_pred = classifier.predict(X_test)\n",
        "cm = confusion_matrix(Y_test, Y_pred)\n",
        "plot_confusion_matrix(classifier, X_test, Y_test)  \n",
        "plt.show()\n",
        "print(\"accuracy = %f\" % accuracy_score(Y_test, Y_pred))\n",
        "print(\"precision = %f\" % precision_score(Y_test, Y_pred))\n",
        "print(\"recall score = %f\" % recall_score(Y_test, Y_pred))\n",
        "print(\"f1 score = %f\" % f1_score(Y_test, Y_pred))"
      ],
      "execution_count": 12,
      "outputs": [
        {
          "output_type": "stream",
          "name": "stderr",
          "text": [
            "/usr/local/lib/python3.7/dist-packages/sklearn/utils/deprecation.py:87: FutureWarning: Function plot_confusion_matrix is deprecated; Function `plot_confusion_matrix` is deprecated in 1.0 and will be removed in 1.2. Use one of the class methods: ConfusionMatrixDisplay.from_predictions or ConfusionMatrixDisplay.from_estimator.\n",
            "  warnings.warn(msg, category=FutureWarning)\n"
          ]
        },
        {
          "output_type": "display_data",
          "data": {
            "image/png": "[encoded data removed]",
            "text/plain": [
              "<Figure size 432x288 with 2 Axes>"
            ]
          },
          "metadata": {
            "needs_background": "light"
          }
        },
        {
          "output_type": "stream",
          "name": "stdout",
          "text": [
            "accuracy = 0.938430\n",
            "precision = 0.600000\n",
            "recall score = 0.095745\n",
            "f1 score = 0.165138\n"
          ]
        }
      ]
    },
    {
      "cell_type": "markdown",
      "metadata": {
        "id": "LXfGoHZHVNeM"
      },
      "source": [
        "# **Linear Support Vector Machine**"
      ]
    },
    {
      "cell_type": "code",
      "metadata": {
        "colab": {
          "base_uri": "https://localhost:8080/"
        },
        "id": "zgN2WOQVVZBs",
        "outputId": "8e4c6cfd-626a-4e83-c8e9-7d364aee5423"
      },
      "source": [
        "from sklearn.svm import SVC\n",
        "classifier = SVC(kernel = 'linear', random_state = 0)\n",
        "classifier.fit(X_train, Y_train)"
      ],
      "execution_count": 13,
      "outputs": [
        {
          "output_type": "execute_result",
          "data": {
            "text/plain": [
              "SVC(kernel='linear', random_state=0)"
            ]
          },
          "metadata": {},
          "execution_count": 13
        }
      ]
    },
    {
      "cell_type": "code",
      "metadata": {
        "colab": {
          "base_uri": "https://localhost:8080/",
          "height": 435
        },
        "id": "MxflSNKFVeVc",
        "outputId": "5ed528dd-b79b-406b-e352-ecf631fac4fe"
      },
      "source": [
        "from sklearn.metrics import confusion_matrix, accuracy_score, precision_score,recall_score, f1_score\n",
        "Y_pred = classifier.predict(X_test)\n",
        "cm = confusion_matrix(Y_test, Y_pred)\n",
        "plot_confusion_matrix(classifier, X_test, Y_test)  \n",
        "plt.show()\n",
        "print(\"accuracy = %f\" % accuracy_score(Y_test, Y_pred))\n",
        "print(\"precision = %f\" % precision_score(Y_test, Y_pred))\n",
        "print(\"recall score = %f\" % recall_score(Y_test, Y_pred))\n",
        "print(\"f1 score = %f\" % f1_score(Y_test, Y_pred))"
      ],
      "execution_count": 14,
      "outputs": [
        {
          "output_type": "stream",
          "name": "stderr",
          "text": [
            "/usr/local/lib/python3.7/dist-packages/sklearn/utils/deprecation.py:87: FutureWarning: Function plot_confusion_matrix is deprecated; Function `plot_confusion_matrix` is deprecated in 1.0 and will be removed in 1.2. Use one of the class methods: ConfusionMatrixDisplay.from_predictions or ConfusionMatrixDisplay.from_estimator.\n",
            "  warnings.warn(msg, category=FutureWarning)\n"
          ]
        },
        {
          "output_type": "display_data",
          "data": {
            "image/png": "[encoded data removed]",
            "text/plain": [
              "<Figure size 432x288 with 2 Axes>"
            ]
          },
          "metadata": {
            "needs_background": "light"
          }
        },
        {
          "output_type": "stream",
          "name": "stderr",
          "text": [
            "/usr/local/lib/python3.7/dist-packages/sklearn/metrics/_classification.py:1308: UndefinedMetricWarning: Precision is ill-defined and being set to 0.0 due to no predicted samples. Use `zero_division` parameter to control this behavior.\n",
            "  _warn_prf(average, modifier, msg_start, len(result))\n"
          ]
        },
        {
          "output_type": "stream",
          "name": "stdout",
          "text": [
            "accuracy = 0.936401\n",
            "precision = 0.000000\n",
            "recall score = 0.000000\n",
            "f1 score = 0.000000\n"
          ]
        }
      ]
    },
    {
      "cell_type": "markdown",
      "metadata": {
        "id": "twQSJNvuXXHc"
      },
      "source": [
        "# **Polynomial Support Vector Machine**"
      ]
    },
    {
      "cell_type": "code",
      "metadata": {
        "id": "OwwGyRYUXboK",
        "colab": {
          "base_uri": "https://localhost:8080/"
        },
        "outputId": "d0e5bbe6-d529-4267-edd0-09943acc10ab"
      },
      "source": [
        "from sklearn.svm import SVC\n",
        "classifier = SVC(kernel = 'poly',degree=3, random_state = 0)\n",
        "classifier.fit(X_train, Y_train)"
      ],
      "execution_count": 15,
      "outputs": [
        {
          "output_type": "execute_result",
          "data": {
            "text/plain": [
              "SVC(kernel='poly', random_state=0)"
            ]
          },
          "metadata": {},
          "execution_count": 15
        }
      ]
    },
    {
      "cell_type": "code",
      "metadata": {
        "id": "u5nXAtev8ZvH",
        "colab": {
          "base_uri": "https://localhost:8080/",
          "height": 401
        },
        "outputId": "0379c862-fe38-4217-f15b-e75e7628ca36"
      },
      "source": [
        "from sklearn.metrics import confusion_matrix, accuracy_score, precision_score,recall_score, f1_score\n",
        "Y_pred = classifier.predict(X_test)\n",
        "cm = confusion_matrix(Y_test, Y_pred)\n",
        "plot_confusion_matrix(classifier, X_test, Y_test)  \n",
        "plt.show()\n",
        "print(\"accuracy = %f\" % accuracy_score(Y_test, Y_pred))\n",
        "print(\"precision = %f\" % precision_score(Y_test, Y_pred))\n",
        "print(\"recall score = %f\" % recall_score(Y_test, Y_pred))\n",
        "print(\"f1 score = %f\" % f1_score(Y_test, Y_pred))"
      ],
      "execution_count": 16,
      "outputs": [
        {
          "output_type": "stream",
          "name": "stderr",
          "text": [
            "/usr/local/lib/python3.7/dist-packages/sklearn/utils/deprecation.py:87: FutureWarning: Function plot_confusion_matrix is deprecated; Function `plot_confusion_matrix` is deprecated in 1.0 and will be removed in 1.2. Use one of the class methods: ConfusionMatrixDisplay.from_predictions or ConfusionMatrixDisplay.from_estimator.\n",
            "  warnings.warn(msg, category=FutureWarning)\n"
          ]
        },
        {
          "output_type": "display_data",
          "data": {
            "image/png": "[encoded data removed]",
            "text/plain": [
              "<Figure size 432x288 with 2 Axes>"
            ]
          },
          "metadata": {
            "needs_background": "light"
          }
        },
        {
          "output_type": "stream",
          "name": "stdout",
          "text": [
            "accuracy = 0.935724\n",
            "precision = 0.333333\n",
            "recall score = 0.010638\n",
            "f1 score = 0.020619\n"
          ]
        }
      ]
    },
    {
      "cell_type": "markdown",
      "metadata": {
        "id": "7fV185Xw8dh9"
      },
      "source": [
        "# **Radial basis function SVM**"
      ]
    },
    {
      "cell_type": "code",
      "metadata": {
        "id": "3gZBm8UY8m_Q",
        "colab": {
          "base_uri": "https://localhost:8080/"
        },
        "outputId": "4963e081-9749-47f7-defc-7569a9e2f0f4"
      },
      "source": [
        "from sklearn.svm import SVC\n",
        "classifier = SVC(kernel = 'rbf', random_state = 0)\n",
        "classifier.fit(X_train, Y_train)"
      ],
      "execution_count": 17,
      "outputs": [
        {
          "output_type": "execute_result",
          "data": {
            "text/plain": [
              "SVC(random_state=0)"
            ]
          },
          "metadata": {},
          "execution_count": 17
        }
      ]
    },
    {
      "cell_type": "code",
      "metadata": {
        "id": "q0MgrmS58rT_",
        "colab": {
          "base_uri": "https://localhost:8080/",
          "height": 401
        },
        "outputId": "7700e360-6bf7-4a10-eb7d-18a8dd03abf0"
      },
      "source": [
        "from sklearn.metrics import confusion_matrix, accuracy_score, precision_score,recall_score, f1_score\n",
        "Y_pred = classifier.predict(X_test)\n",
        "cm = confusion_matrix(Y_test, Y_pred)\n",
        "plot_confusion_matrix(classifier, X_test, Y_test)  \n",
        "plt.show()\n",
        "print(\"accuracy = %f\" % accuracy_score(Y_test, Y_pred))\n",
        "print(\"precision = %f\" % precision_score(Y_test, Y_pred))\n",
        "print(\"recall score = %f\" % recall_score(Y_test, Y_pred))\n",
        "print(\"f1 score = %f\" % f1_score(Y_test, Y_pred))"
      ],
      "execution_count": 18,
      "outputs": [
        {
          "output_type": "stream",
          "name": "stderr",
          "text": [
            "/usr/local/lib/python3.7/dist-packages/sklearn/utils/deprecation.py:87: FutureWarning: Function plot_confusion_matrix is deprecated; Function `plot_confusion_matrix` is deprecated in 1.0 and will be removed in 1.2. Use one of the class methods: ConfusionMatrixDisplay.from_predictions or ConfusionMatrixDisplay.from_estimator.\n",
            "  warnings.warn(msg, category=FutureWarning)\n"
          ]
        },
        {
          "output_type": "display_data",
          "data": {
            "image/png": "[encoded data removed]",
            "text/plain": [
              "<Figure size 432x288 with 2 Axes>"
            ]
          },
          "metadata": {
            "needs_background": "light"
          }
        },
        {
          "output_type": "stream",
          "name": "stdout",
          "text": [
            "accuracy = 0.935047\n",
            "precision = 0.333333\n",
            "recall score = 0.021277\n",
            "f1 score = 0.040000\n"
          ]
        }
      ]
    },
    {
      "cell_type": "markdown",
      "metadata": {
        "id": "G806ex_O874o"
      },
      "source": [
        "# **K-NN model**"
      ]
    },
    {
      "cell_type": "code",
      "metadata": {
        "id": "SStY-oSx8_5P",
        "colab": {
          "base_uri": "https://localhost:8080/"
        },
        "outputId": "d20560c3-502a-4b24-fb1b-f06e0e762673"
      },
      "source": [
        "from sklearn.neighbors import KNeighborsClassifier\n",
        "classifier = KNeighborsClassifier(n_neighbors = 5, metric = 'minkowski', p = 2)\n",
        "classifier.fit(X_train, Y_train)"
      ],
      "execution_count": 19,
      "outputs": [
        {
          "output_type": "execute_result",
          "data": {
            "text/plain": [
              "KNeighborsClassifier()"
            ]
          },
          "metadata": {},
          "execution_count": 19
        }
      ]
    },
    {
      "cell_type": "code",
      "metadata": {
        "id": "Gqzhv_O59GeX",
        "colab": {
          "base_uri": "https://localhost:8080/",
          "height": 401
        },
        "outputId": "7ca4ba75-08c4-46e7-f18c-dca5ad419cac"
      },
      "source": [
        "from sklearn.metrics import confusion_matrix, accuracy_score, precision_score,recall_score, f1_score\n",
        "Y_pred = classifier.predict(X_test)\n",
        "cm = confusion_matrix(Y_test, Y_pred)\n",
        "plot_confusion_matrix(classifier, X_test, Y_test)  \n",
        "plt.show()\n",
        "print(\"accuracy = %f\" % accuracy_score(Y_test, Y_pred))\n",
        "print(\"precision = %f\" % precision_score(Y_test, Y_pred))\n",
        "print(\"recall score = %f\" % recall_score(Y_test, Y_pred))\n",
        "print(\"f1 score = %f\" % f1_score(Y_test, Y_pred))"
      ],
      "execution_count": 20,
      "outputs": [
        {
          "output_type": "stream",
          "name": "stderr",
          "text": [
            "/usr/local/lib/python3.7/dist-packages/sklearn/utils/deprecation.py:87: FutureWarning: Function plot_confusion_matrix is deprecated; Function `plot_confusion_matrix` is deprecated in 1.0 and will be removed in 1.2. Use one of the class methods: ConfusionMatrixDisplay.from_predictions or ConfusionMatrixDisplay.from_estimator.\n",
            "  warnings.warn(msg, category=FutureWarning)\n"
          ]
        },
        {
          "output_type": "display_data",
          "data": {
            "image/png": "[encoded data removed]",
            "text/plain": [
              "<Figure size 432x288 with 2 Axes>"
            ]
          },
          "metadata": {
            "needs_background": "light"
          }
        },
        {
          "output_type": "stream",
          "name": "stdout",
          "text": [
            "accuracy = 0.925575\n",
            "precision = 0.233333\n",
            "recall score = 0.074468\n",
            "f1 score = 0.112903\n"
          ]
        }
      ]
    }
  ]
}